{
 "cells": [
  {
   "cell_type": "markdown",
   "metadata": {},
   "source": [
    "1. Write a function that takes a list of integers as an argument, and returns the sum of the integers. Use a try-except block to catch any ValueError exceptions that may be raised when attempting to convert a string to an integer."
   ]
  },
  {
   "cell_type": "code",
   "execution_count": 1,
   "metadata": {},
   "outputs": [
    {
     "name": "stdout",
     "output_type": "stream",
     "text": [
      "Enter a list of numbers seperated by Comma:1,bk,4\n",
      "['1', 'bk', '4']\n",
      "Please enter only numbers.\n"
     ]
    }
   ],
   "source": [
    "try:\n",
    "    inp = input(\"Enter a list of numbers seperated by Comma:\")\n",
    "    inptlist = inp.split(\",\")\n",
    "    print(inptlist)\n",
    "    sum =0\n",
    "    for x in inptlist:\n",
    "        if int(x)%2 ==0:\n",
    "            sum =sum + int(x)\n",
    "    print(\"The sum of all even numbers of the List is :\",sum)\n",
    "except ValueError as ve:\n",
    "    print(\"Please enter only numbers.\")"
   ]
  },
  {
   "cell_type": "markdown",
   "metadata": {},
   "source": [
    "2. Write a function that takes a filename as an argument, and attempts to open the file. Use a try-except block to catch any FileNotFoundError exceptions that may be raised when attempting to open the file. If the file is successfully opened, the function should return the contents of the file."
   ]
  },
  {
   "cell_type": "code",
   "execution_count": 4,
   "metadata": {},
   "outputs": [
    {
     "name": "stdout",
     "output_type": "stream",
     "text": [
      "This is a test file. \n",
      "Welcome to Python programming. \n",
      "Keep coding. \n"
     ]
    }
   ],
   "source": [
    "def openandreadfile(fname):\n",
    "    try:\n",
    "        fop = open(fname,\"r\")\n",
    "        print(fop.read())\n",
    "    except FileNotFoundError as fnf:\n",
    "        print(\"The file is not found at the specified location\")\n",
    "fname=\"c://BDE_data/test.txt\"\n",
    "openandreadfile(fname)"
   ]
  },
  {
   "cell_type": "markdown",
   "metadata": {},
   "source": [
    "3. Write a function that takes a list of strings as an argument, and returns a new list containing only the strings that can be successfully converted to a float. Use a try-except block to catch any ValueError exceptions that may be raised when attempting to convert a string to a float."
   ]
  },
  {
   "cell_type": "code",
   "execution_count": 7,
   "metadata": {
    "scrolled": true
   },
   "outputs": [
    {
     "name": "stdout",
     "output_type": "stream",
     "text": [
      "Enter a list of strings seperated by ;1;5;-0.8;bk;/;Hello,world\n",
      "bk is not a float.\n",
      "/ is not a float.\n",
      "Hello,world is not a float.\n",
      "The list is read.\n",
      "The new list with only floats is : ['1', '5', '-0.8']\n"
     ]
    }
   ],
   "source": [
    "inp = input(\"Enter a list of strings seperated by ;\")\n",
    "list_of_str = inp.split(\";\")\n",
    "res_list =[]\n",
    "for x in list_of_str:\n",
    "    try:\n",
    "        if float(x):\n",
    "            res_list.append(x)\n",
    "    except ValueError as ve:\n",
    "        print(x,\"is not a float.\")\n",
    "print(\"The list is read.\")\n",
    "print(\"The new list with only floats is :\",res_list)"
   ]
  },
  {
   "cell_type": "markdown",
   "metadata": {},
   "source": [
    "4. Write a function that takes a list of dictionaries as an argument, and returns the value of a specified key from each dictionary. Use a try-except block to catch any KeyError exceptions that may be raised when attempting to access a key that does not exist in a dictionary."
   ]
  },
  {
   "cell_type": "code",
   "execution_count": 14,
   "metadata": {},
   "outputs": [
    {
     "name": "stdout",
     "output_type": "stream",
     "text": [
      "The value for key d is: 4\n"
     ]
    }
   ],
   "source": [
    "def getvalue(dictlist,key):\n",
    "    keyfound =0\n",
    "    for x in dictlist:\n",
    "        try:\n",
    "            if key in x:\n",
    "                print(\"The value for key\",key,\"is:\",x[key])\n",
    "                keyfound = 1\n",
    "                break\n",
    "        except KeyError as ke:\n",
    "            continue\n",
    "    if keyfound ==0:\n",
    "        print(\"The key\",key,\"is not found in the list.\")\n",
    "            \n",
    "dictlist = [{'a': 1, 'b': 2}, {'c': 3, 'd': 4}, {'e': 5, 'f': 6}]\n",
    "key ='d'\n",
    "getvalue(dictlist,key)\n",
    "    "
   ]
  },
  {
   "cell_type": "markdown",
   "metadata": {},
   "source": [
    "5. Write a function that takes a list of integers as an argument, and returns the largest integer in the list. Use a try-except block to catch any ValueError exceptions that may be raised when attempting to compare elements that are not integers."
   ]
  },
  {
   "cell_type": "code",
   "execution_count": 19,
   "metadata": {},
   "outputs": [
    {
     "name": "stdout",
     "output_type": "stream",
     "text": [
      "Enter a list of numbers seperated by Comma:1,5,3000\n",
      "['1', '5', '3000']\n",
      "The Largest number is : 3000\n"
     ]
    }
   ],
   "source": [
    "try:\n",
    "    inp = input(\"Enter a list of numbers seperated by Comma:\")\n",
    "    inptlist = inp.split(\",\")\n",
    "    print(inptlist)\n",
    "    temp = int(inptlist[0])\n",
    "    for x in inptlist:\n",
    "        if (int(x)>=temp):\n",
    "            temp =int(x)\n",
    "    print(\"The Largest number is :\",temp)\n",
    "except ValueError as ve:\n",
    "    print(\"Please enter only integer numbers.\")"
   ]
  },
  {
   "cell_type": "code",
   "execution_count": null,
   "metadata": {},
   "outputs": [],
   "source": []
  },
  {
   "cell_type": "code",
   "execution_count": null,
   "metadata": {},
   "outputs": [],
   "source": []
  }
 ],
 "metadata": {
  "kernelspec": {
   "display_name": "Python 3 (ipykernel)",
   "language": "python",
   "name": "python3"
  },
  "language_info": {
   "codemirror_mode": {
    "name": "ipython",
    "version": 3
   },
   "file_extension": ".py",
   "mimetype": "text/x-python",
   "name": "python",
   "nbconvert_exporter": "python",
   "pygments_lexer": "ipython3",
   "version": "3.9.13"
  },
  "vscode": {
   "interpreter": {
    "hash": "f7a5be651532581cb44625d52e18aa1d390cab54bc6b51099d8c30bea9b68219"
   }
  }
 },
 "nbformat": 4,
 "nbformat_minor": 2
}
