{
 "cells": [
  {
   "cell_type": "markdown",
   "metadata": {},
   "source": [
    "1. Write a program that prompts the user for a string and checks whether the string is a palindrome (i.e., the string reads the same forward and backward)."
   ]
  },
  {
   "cell_type": "code",
   "execution_count": 2,
   "metadata": {},
   "outputs": [
    {
     "name": "stdout",
     "output_type": "stream",
     "text": [
      "Enter a string :Bhavani\n",
      "The string is not a Palindrome\n"
     ]
    }
   ],
   "source": [
    "txt= input(\"Enter a string :\")\n",
    "if (txt==txt[::-1]):\n",
    "    print(\"The string is a Palindrome\")\n",
    "else:\n",
    "    print(\"The string is not a Palindrome\")\n"
   ]
  },
  {
   "cell_type": "markdown",
   "metadata": {},
   "source": [
    "2. Write a program that takes in a list of integers and returns the sum of all even numbers in the list."
   ]
  },
  {
   "cell_type": "code",
   "execution_count": 5,
   "metadata": {},
   "outputs": [
    {
     "name": "stdout",
     "output_type": "stream",
     "text": [
      "Enter a list of numbers seperated by Comma:1,2,Bhavani,3\n",
      "['1', '2', 'Bhavani', '3']\n",
      "Please enter only numbers.\n"
     ]
    }
   ],
   "source": [
    "try:\n",
    "    inp = input(\"Enter a list of numbers seperated by Comma:\")\n",
    "    inptlist = inp.split(\",\")\n",
    "    print(inptlist)\n",
    "    sum =0\n",
    "    for x in inptlist:\n",
    "        if int(x)%2 ==0:\n",
    "            sum =sum + int(x)\n",
    "    print(\"The sum of all even numbers of the List is :\",sum)\n",
    "except:\n",
    "    print(\"Please enter only numbers.\")"
   ]
  },
  {
   "cell_type": "markdown",
   "metadata": {},
   "source": [
    "3. Write a program that prompts the user for their age and checks whether they are old enough to vote (i.e., 18 years old or older)."
   ]
  },
  {
   "cell_type": "code",
   "execution_count": 8,
   "metadata": {},
   "outputs": [
    {
     "name": "stdout",
     "output_type": "stream",
     "text": [
      "Enter the age:bhavani\n",
      "Please enter a numerical value for age\n"
     ]
    }
   ],
   "source": [
    "try:\n",
    "    age = float(input(\"Enter the age:\"))\n",
    "    if age>=18:\n",
    "        print(\"You are eligible to Vote\")\n",
    "    else:\n",
    "        print(\"You are not eligible to Vote\")\n",
    "except:\n",
    "    print(\"Please enter a numerical value for age\")"
   ]
  },
  {
   "cell_type": "markdown",
   "metadata": {},
   "source": [
    "4. Write a program that takes in a list of integers and returns the largest number in the list that is also divisible by 3."
   ]
  },
  {
   "cell_type": "code",
   "execution_count": 2,
   "metadata": {},
   "outputs": [
    {
     "name": "stdout",
     "output_type": "stream",
     "text": [
      "Enter a list of numbers seperated by Comma:3,0\n",
      "['3', '0']\n",
      "The Largest number divisible by 3 is : 3\n"
     ]
    }
   ],
   "source": [
    "try:\n",
    "    inp = input(\"Enter a list of numbers seperated by Comma:\")\n",
    "    inptlist = inp.split(\",\")\n",
    "    print(inptlist)\n",
    "    temp =0\n",
    "    for x in inptlist:\n",
    "        if (int(x)%3 ==0) and (int(x)>=temp):\n",
    "            temp =int(x)\n",
    "    if temp!=0:\n",
    "        print(\"The Largest number divisible by 3 is :\",temp)\n",
    "    else:\n",
    "        print(\"None of the numbers are divisible by 3 \")\n",
    "except:\n",
    "    print(\"Please enter only numbers.\")"
   ]
  },
  {
   "cell_type": "markdown",
   "metadata": {},
   "source": [
    "5. Write a program that prompts the user for a number and checks whether the number is a prime number (i.e., only divisible by 1 and itself)."
   ]
  },
  {
   "cell_type": "code",
   "execution_count": 31,
   "metadata": {},
   "outputs": [
    {
     "name": "stdout",
     "output_type": "stream",
     "text": [
      "Input a number:Bhavani\n",
      "Please enter numerical values greater than 1\n"
     ]
    }
   ],
   "source": [
    "try:\n",
    "    num = int(input(\"Input a number:\"))\n",
    "    check =1\n",
    "    if num>1:\n",
    "        for x in range(2,num):\n",
    "            if num%x ==0:\n",
    "                check=0\n",
    "                break\n",
    "        if check ==0:\n",
    "            print(num,\"is not a prime number.\")\n",
    "        else:\n",
    "            print(num,\"is a prime number.\")\n",
    "    elif num <1:\n",
    "        print(\"Zero and negative numbers are not prime numbers\")\n",
    "    elif num ==1:\n",
    "        print(\"1 is neither a prime number nor a composite number.\")\n",
    "  \n",
    "except:\n",
    "    print(\"Please enter numerical values greater than 1\")"
   ]
  },
  {
   "cell_type": "code",
   "execution_count": null,
   "metadata": {},
   "outputs": [],
   "source": []
  }
 ],
 "metadata": {
  "kernelspec": {
   "display_name": "Python 3 (ipykernel)",
   "language": "python",
   "name": "python3"
  },
  "language_info": {
   "codemirror_mode": {
    "name": "ipython",
    "version": 3
   },
   "file_extension": ".py",
   "mimetype": "text/x-python",
   "name": "python",
   "nbconvert_exporter": "python",
   "pygments_lexer": "ipython3",
   "version": "3.9.13"
  },
  "vscode": {
   "interpreter": {
    "hash": "f7a5be651532581cb44625d52e18aa1d390cab54bc6b51099d8c30bea9b68219"
   }
  }
 },
 "nbformat": 4,
 "nbformat_minor": 2
}
