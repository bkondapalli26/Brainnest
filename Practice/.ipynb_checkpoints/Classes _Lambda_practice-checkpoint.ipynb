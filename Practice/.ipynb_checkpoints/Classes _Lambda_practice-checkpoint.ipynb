{
 "cells": [
  {
   "cell_type": "markdown",
   "id": "aa501129",
   "metadata": {},
   "source": [
    "1. Create a Dog class with the following attributes: name, breed, and age. The class should also have the following methods: bark() and info()."
   ]
  },
  {
   "cell_type": "code",
   "execution_count": 5,
   "id": "f2e11769",
   "metadata": {
    "scrolled": true
   },
   "outputs": [
    {
     "name": "stdout",
     "output_type": "stream",
     "text": [
      "abc is a  labrador breed of dogs.\n",
      "Age of the dog is : 4\n",
      "woof woof\n"
     ]
    }
   ],
   "source": [
    "class Dog:\n",
    "  def __init__(self, name,breed,age):\n",
    "    self.name = name\n",
    "    self.breed = breed\n",
    "    self.age = age\n",
    "    \n",
    "  def info(self):\n",
    "    print(self.name,\"is a \",self.breed,\"breed of dogs.\")\n",
    "    print(\"Age of the dog is :\",self.age)\n",
    "  def bark(self):\n",
    "    print(\"woof woof\")\n",
    "\n",
    "d = Dog(\"abc\",\"labrador\",\"4\")\n",
    "d.info()\n",
    "d.bark()"
   ]
  },
  {
   "cell_type": "markdown",
   "id": "c0be929d",
   "metadata": {},
   "source": [
    "2. Create a BankAccount class with the following attributes: balance and account_number. The class should also have the following methods: deposit(amount), withdraw(amount), and info()."
   ]
  },
  {
   "cell_type": "code",
   "execution_count": 9,
   "id": "a8c62c1f",
   "metadata": {},
   "outputs": [
    {
     "name": "stdout",
     "output_type": "stream",
     "text": [
      "Insufficient balance.\n",
      "Hello!,You account balance is : 160\n",
      "Hello!,You account balance is : 65\n"
     ]
    }
   ],
   "source": [
    "class BankAccount:\n",
    "    def __init__(self,balance,account_number):\n",
    "        self.balance = balance\n",
    "        self.account_number = account_number\n",
    "    def deposit(self,amt):\n",
    "        self.balance= self.balance+ amt\n",
    "    def withdraw(self,amt):\n",
    "        if (amt > self.balance):\n",
    "            print(\"Insufficient balance.\")\n",
    "        else:\n",
    "            self.balance = self.balance - amt \n",
    "    def info(self):\n",
    "        print(\"Hello!,You account balance is :\",self.balance)\n",
    "\n",
    "person1 = BankAccount(25,1234567)\n",
    "person2 = BankAccount(200,1234568)\n",
    "\n",
    "person2.withdraw(40)\n",
    "person1.deposit(40)\n",
    "person1.withdraw(100)\n",
    "person2.info()\n",
    "person1.info()"
   ]
  },
  {
   "cell_type": "markdown",
   "id": "a52a18ba",
   "metadata": {},
   "source": [
    "3. Create a Vehicle class with the following attributes: make, model, and year. The class should also have the following methods: start(), stop(), and info().\n",
    "\n",
    "Create a Car class that inherits from the Vehicle class. The Car class should have an additional attribute: num_doors. The class should also have the following method: lock_doors()."
   ]
  },
  {
   "cell_type": "code",
   "execution_count": null,
   "id": "6e783914",
   "metadata": {},
   "outputs": [],
   "source": [
    "class Vehicle:\n",
    "    def __init__(self,make,model,year):\n",
    "        self.make = make\n",
    "        self.model = model\n",
    "        self.year = year \n",
    "    def start(self):\n",
    "        print(self.make,\"started and running.\")\n",
    "    def stop(self):\n",
    "        print(self.make,\"stopped.\")\n",
    "    def info(self):\n",
    "        print(\"Make:\",self.make)\n",
    "        print(\"Model:\",self.model)\n",
    "        print(\"Year:\",self.year)\n",
    "class Car(Vehicle):\n",
    "    def __init__(self,num_)"
   ]
  },
  {
   "cell_type": "markdown",
   "id": "fb1f2a85",
   "metadata": {},
   "source": [
    "1.Write a lambda function that takes two lists of integers and returns a new list with the maximum value for each index of the two lists. For example, given [1, 3, 5] and [2, 4, 6], the function should return [2, 4, 6]."
   ]
  },
  {
   "cell_type": "code",
   "execution_count": 18,
   "id": "fefa5087",
   "metadata": {
    "scrolled": true
   },
   "outputs": [
    {
     "ename": "SyntaxError",
     "evalue": "invalid syntax (2521152448.py, line 4)",
     "output_type": "error",
     "traceback": [
      "\u001b[1;36m  File \u001b[1;32m\"C:\\Users\\medic\\AppData\\Local\\Temp\\ipykernel_7572\\2521152448.py\"\u001b[1;36m, line \u001b[1;32m4\u001b[0m\n\u001b[1;33m    c = [getmax(x, y) for y in b [for x in a]]\u001b[0m\n\u001b[1;37m                                  ^\u001b[0m\n\u001b[1;31mSyntaxError\u001b[0m\u001b[1;31m:\u001b[0m invalid syntax\n"
     ]
    }
   ],
   "source": [
    "\n",
    "\n",
    "a =[1,7,5]\n",
    "b =[2,4,6]\n",
    "#getmax = lambda x,y: max(x,y)\n",
    "c = map(lambda x,y:max(x,y),a,b)\n",
    "print(c)\n"
   ]
  },
  {
   "cell_type": "markdown",
   "id": "e3235e46",
   "metadata": {},
   "source": [
    "2. Write a lambda function that takes a string of words separated by spaces, and returns a new string with the words in reverse order. For example, given the string \"the quick brown fox\", the function should return \"fox brown quick the\"."
   ]
  }
 ],
 "metadata": {
  "kernelspec": {
   "display_name": "Python 3 (ipykernel)",
   "language": "python",
   "name": "python3"
  },
  "language_info": {
   "codemirror_mode": {
    "name": "ipython",
    "version": 3
   },
   "file_extension": ".py",
   "mimetype": "text/x-python",
   "name": "python",
   "nbconvert_exporter": "python",
   "pygments_lexer": "ipython3",
   "version": "3.9.13"
  }
 },
 "nbformat": 4,
 "nbformat_minor": 5
}
