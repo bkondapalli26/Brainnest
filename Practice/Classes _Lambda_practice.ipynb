{
 "cells": [
  {
   "cell_type": "markdown",
   "id": "fcd185c1",
   "metadata": {},
   "source": [
    "1. Create a Dog class with the following attributes: name, breed, and age. The class should also have the following methods: bark() and info()."
   ]
  },
  {
   "cell_type": "code",
   "execution_count": 5,
   "id": "6a73c661",
   "metadata": {
    "scrolled": true
   },
   "outputs": [
    {
     "name": "stdout",
     "output_type": "stream",
     "text": [
      "abc is a  labrador breed of dogs.\n",
      "Age of the dog is : 4\n",
      "woof woof\n"
     ]
    }
   ],
   "source": [
    "class Dog:\n",
    "  def __init__(self, name,breed,age):\n",
    "    self.name = name\n",
    "    self.breed = breed\n",
    "    self.age = age\n",
    "    \n",
    "  def info(self):\n",
    "    print(self.name,\"is a \",self.breed,\"breed of dogs.\")\n",
    "    print(\"Age of the dog is :\",self.age)\n",
    "  def bark(self):\n",
    "    print(\"woof woof\")\n",
    "\n",
    "d = Dog(\"abc\",\"labrador\",\"4\")\n",
    "d.info()\n",
    "d.bark()"
   ]
  },
  {
   "cell_type": "markdown",
   "id": "21c830ce",
   "metadata": {},
   "source": [
    "2. Create a BankAccount class with the following attributes: balance and account_number. The class should also have the following methods: deposit(amount), withdraw(amount), and info()."
   ]
  },
  {
   "cell_type": "code",
   "execution_count": 9,
   "id": "2de8ac4d",
   "metadata": {},
   "outputs": [
    {
     "name": "stdout",
     "output_type": "stream",
     "text": [
      "Insufficient balance.\n",
      "Hello!,You account balance is : 160\n",
      "Hello!,You account balance is : 65\n"
     ]
    }
   ],
   "source": [
    "class BankAccount:\n",
    "    def __init__(self,balance,account_number):\n",
    "        self.balance = balance\n",
    "        self.account_number = account_number\n",
    "    def deposit(self,amt):\n",
    "        self.balance= self.balance+ amt\n",
    "    def withdraw(self,amt):\n",
    "        if (amt > self.balance):\n",
    "            print(\"Insufficient balance.\")\n",
    "        else:\n",
    "            self.balance = self.balance - amt \n",
    "    def info(self):\n",
    "        print(\"Hello!,You account balance is :\",self.balance)\n",
    "\n",
    "person1 = BankAccount(25,1234567)\n",
    "person2 = BankAccount(200,1234568)\n",
    "\n",
    "person2.withdraw(40)\n",
    "person1.deposit(40)\n",
    "person1.withdraw(100)\n",
    "person2.info()\n",
    "person1.info()"
   ]
  },
  {
   "cell_type": "markdown",
   "id": "948f99ce",
   "metadata": {},
   "source": [
    "3. Create a Vehicle class with the following attributes: make, model, and year. The class should also have the following methods: start(), stop(), and info().\n",
    "\n",
    "Create a Car class that inherits from the Vehicle class. The Car class should have an additional attribute: num_doors. The class should also have the following method: lock_doors()."
   ]
  },
  {
   "cell_type": "code",
   "execution_count": null,
   "id": "28252795",
   "metadata": {},
   "outputs": [],
   "source": [
    "class Vehicle:\n",
    "    def __init__(self,make,model,year):\n",
    "        self.make = make\n",
    "        self.model = model\n",
    "        self.year = year \n",
    "    def start(self):\n",
    "        print(self.make,\"started and running.\")\n",
    "    def stop(self):\n",
    "        print(self.make,\"stopped.\")\n",
    "    def info(self):\n",
    "        print(\"Make:\",self.make)\n",
    "        print(\"Model:\",self.model)\n",
    "        print(\"Year:\",self.year)\n",
    "class Car(Vehicle):\n",
    "    def __init__(self,num_)"
   ]
  },
  {
   "cell_type": "markdown",
   "id": "79c97992",
   "metadata": {},
   "source": [
    "1.Write a lambda function that takes two lists of integers and returns a new list with the maximum value for each index of the two lists. For example, given [1, 3, 5] and [2, 4, 6], the function should return [2, 4, 6]."
   ]
  },
  {
   "cell_type": "code",
   "execution_count": 20,
   "id": "a0b80bf8",
   "metadata": {
    "scrolled": true
   },
   "outputs": [
    {
     "name": "stdout",
     "output_type": "stream",
     "text": [
      "[2, 7, 6]\n"
     ]
    }
   ],
   "source": [
    "\n",
    "\n",
    "a =[1,7,5]\n",
    "b =[2,4,6]\n",
    "c = list(map(lambda x,y:max(x,y),a,b))\n",
    "print(c)\n"
   ]
  },
  {
   "cell_type": "markdown",
   "id": "5641e4f5",
   "metadata": {},
   "source": [
    "2. Write a lambda function that takes a string of words separated by spaces, and returns a new string with the words in reverse order. For example, given the string \"the quick brown fox\", the function should return \"fox brown quick the\"."
   ]
  },
  {
   "cell_type": "code",
   "execution_count": 21,
   "id": "99e8adaa",
   "metadata": {},
   "outputs": [
    {
     "name": "stdout",
     "output_type": "stream",
     "text": [
      "fox brown quick the\n"
     ]
    }
   ],
   "source": [
    "s = \"the quick brown fox\"\n",
    "result = \" \".join(reversed(s.split()))\n",
    "print(result)"
   ]
  },
  {
   "cell_type": "code",
   "execution_count": null,
   "id": "d563fb57",
   "metadata": {},
   "outputs": [],
   "source": []
  }
 ],
 "metadata": {
  "kernelspec": {
   "display_name": "Python 3 (ipykernel)",
   "language": "python",
   "name": "python3"
  },
  "language_info": {
   "codemirror_mode": {
    "name": "ipython",
    "version": 3
   },
   "file_extension": ".py",
   "mimetype": "text/x-python",
   "name": "python",
   "nbconvert_exporter": "python",
   "pygments_lexer": "ipython3",
   "version": "3.9.13"
  }
 },
 "nbformat": 4,
 "nbformat_minor": 5
}
