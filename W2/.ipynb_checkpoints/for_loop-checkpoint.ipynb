{
 "cells": [
  {
   "cell_type": "markdown",
   "metadata": {},
   "source": [
    "1. Create a for loop that iterates through a list of strings and prints each string in uppercase."
   ]
  },
  {
   "cell_type": "code",
   "execution_count": 1,
   "metadata": {},
   "outputs": [
    {
     "name": "stdout",
     "output_type": "stream",
     "text": [
      "HAPPY\n",
      "SAD\n",
      "LOVE\n",
      "ANGER\n",
      "EXCITED\n"
     ]
    }
   ],
   "source": [
    "listofstr =[\"happy\",\"SAD\",\"Love\",\"AnGer\",\"ExciTed\"]\n",
    "for x in listofstr:\n",
    "    print(x.upper())"
   ]
  },
  {
   "cell_type": "markdown",
   "metadata": {},
   "source": [
    "2. Create a for loop that iterates through a list of numbers and prints the square of each number."
   ]
  },
  {
   "cell_type": "code",
   "execution_count": null,
   "metadata": {},
   "outputs": [],
   "source": [
    "listofnum = [1,3,4,23,54,900009,2345213455677]\n",
    "for x in listofnum:\n",
    "    print(\"Square of\",x,\"is:\",x*x)"
   ]
  },
  {
   "cell_type": "markdown",
   "metadata": {},
   "source": [
    "3. Create a for loop that iterates through a list of dictionaries and prints the value of a specified key for each dictionary."
   ]
  },
  {
   "cell_type": "code",
   "execution_count": 19,
   "metadata": {},
   "outputs": [
    {
     "name": "stdout",
     "output_type": "stream",
     "text": [
      "dictionary:\n",
      "('A', 'Apple')\n",
      "('B', 'Ball')\n",
      "('C', 'Cat')\n",
      "('D', 'Doll')\n",
      "('E', 'Elephant')\n",
      "dictionary:\n",
      "('A', 1)\n",
      "('C', 3)\n",
      "('G', 7)\n",
      "('H', 8)\n",
      "('Y', 25)\n",
      "('Z', 26)\n",
      "dictionary:\n",
      "(1, 'Apples')\n",
      "(7, 'Bananas')\n",
      "Enter the key to be checked:1\n",
      "Key found and the value is: Apples\n"
     ]
    }
   ],
   "source": [
    "listofdict = [{\"A\":\"Apple\",\"B\":\"Ball\",\"C\":\"Cat\",\"D\":\"Doll\",\"E\":\"Elephant\"},{\"A\":1,\"C\":3,\"G\":7,\"H\":8,\"Y\":25,\"Z\":26},{1:\"Apples\",7:\"Bananas\"}]\n",
    "for x in listofdict:\n",
    "    print(\"dictionary:\")\n",
    "    for y in x.items():\n",
    "        print(y)\n",
    "k=input(\"Enter the key to be checked:\")\n",
    "found = 0\n",
    "for a in listofdict:\n",
    "    if (k in a.keys()):\n",
    "        print(\"Key found and the value is:\",a[k])\n",
    "        found =1\n",
    "    elif (int(k) in a.keys()):\n",
    "        print(\"Key found and the value is:\",a[int(k)])\n",
    "        found =1\n",
    "if found ==0:\n",
    "    print(k,\"is not found among keys in the list of dictionaries\")\n",
    "    "
   ]
  },
  {
   "cell_type": "markdown",
   "metadata": {},
   "source": [
    "4. Create a for loop that iterates through a list of numbers and prints the largest number in the list."
   ]
  },
  {
   "cell_type": "code",
   "execution_count": null,
   "metadata": {},
   "outputs": [],
   "source": [
    "listofnum = [1,3,4,23,54,909,77,9,-40,267]\n",
    "maxnum = listofnum[0]\n",
    "for x in listofnum:\n",
    "    if x > maxnum:\n",
    "        maxnum = x\n",
    "print(\"Maximum number in the list is :\",maxnum)"
   ]
  },
  {
   "cell_type": "markdown",
   "metadata": {},
   "source": [
    "5. Create a for loop that iterates through a list of lists and prints the sum of the elements in each sub-list."
   ]
  },
  {
   "cell_type": "code",
   "execution_count": 22,
   "metadata": {},
   "outputs": [
    {
     "name": "stdout",
     "output_type": "stream",
     "text": [
      "Sum of numbers in sublist 1 is: 56\n",
      "Sum of numbers in sublist 2 is: 171.3\n",
      "Sum of numbers in sublist 3 is: 22.423000000000002\n",
      "Sum of numbers in sublist 4 is: 48.4\n"
     ]
    }
   ],
   "source": [
    "lstoflst =[[13,45,2,-9,5],[94.5,76.8],[23,-9.567,8.99],[9.4,5,34]]\n",
    "count=0\n",
    "for x in lstoflst:\n",
    "    sumlist =0\n",
    "    for y in x :\n",
    "        sumlist = sumlist+y\n",
    "    count =count+1\n",
    "    print(\"Sum of numbers in sublist\",count,\"is:\",sumlist)\n",
    "        "
   ]
  },
  {
   "cell_type": "code",
   "execution_count": null,
   "metadata": {},
   "outputs": [],
   "source": []
  }
 ],
 "metadata": {
  "kernelspec": {
   "display_name": "Python 3 (ipykernel)",
   "language": "python",
   "name": "python3"
  },
  "language_info": {
   "codemirror_mode": {
    "name": "ipython",
    "version": 3
   },
   "file_extension": ".py",
   "mimetype": "text/x-python",
   "name": "python",
   "nbconvert_exporter": "python",
   "pygments_lexer": "ipython3",
   "version": "3.9.13"
  }
 },
 "nbformat": 4,
 "nbformat_minor": 2
}
