{
 "cells": [
  {
   "cell_type": "markdown",
   "metadata": {},
   "source": [
    "1. Create a while loop that repeatedly takes user input and adds the input to a list until the user enters \"done\"."
   ]
  },
  {
   "cell_type": "code",
   "execution_count": 4,
   "metadata": {
    "vscode": {
     "languageId": "plaintext"
    }
   },
   "outputs": [
    {
     "name": "stdout",
     "output_type": "stream",
     "text": [
      "Enter input string:Happy\n",
      "Enter input string:Sad\n",
      "Enter input string:Angry\n",
      "Enter input string:exciTED\n",
      "Enter input string:Done\n",
      "List ended.\n",
      "['Happy', 'Sad', 'Angry', 'exciTED']\n"
     ]
    }
   ],
   "source": [
    "inptlst =[]\n",
    "inpt=\"\"\n",
    "while (inpt.lower())!=\"done\":\n",
    "    inpt = input(\"Enter input string:\")\n",
    "    if (inpt.lower())==\"done\":\n",
    "        print(\"List ended.\")\n",
    "        print(inptlst)\n",
    "        break\n",
    "    inptlst.append(inpt)\n",
    "    "
   ]
  },
  {
   "cell_type": "markdown",
   "metadata": {},
   "source": [
    "2. Create a while loop that generates random numbers and adds them to a list until the sum of all numbers in the list is greater than 100."
   ]
  },
  {
   "cell_type": "code",
   "execution_count": 12,
   "metadata": {
    "vscode": {
     "languageId": "plaintext"
    }
   },
   "outputs": [
    {
     "name": "stdout",
     "output_type": "stream",
     "text": [
      "Total: 102\n",
      "Number of iterations for sum total to exceed 100: 25\n"
     ]
    }
   ],
   "source": [
    "import random\n",
    "total = 0\n",
    "num = 0 \n",
    "count =0\n",
    "while total<=100:\n",
    "    num = random.randint(0,9)\n",
    "    total =total +num\n",
    "    count =count+1\n",
    "print(\"Total:\",total)\n",
    "print(\"Number of iterations for sum total to exceed 100:\",count)\n",
    "\n"
   ]
  },
  {
   "cell_type": "markdown",
   "metadata": {},
   "source": [
    "3. Create a while loop that repeatedly takes user input and appends it to a list, but only if the input is a unique string."
   ]
  },
  {
   "cell_type": "code",
   "execution_count": 16,
   "metadata": {
    "vscode": {
     "languageId": "plaintext"
    }
   },
   "outputs": [
    {
     "name": "stdout",
     "output_type": "stream",
     "text": [
      "Enter input string:happy\n",
      "['happy']\n",
      "Enter input string:sad\n",
      "['happy', 'sad']\n",
      "Enter input string:Happy\n",
      "Happy Not a unique input\n",
      "['happy', 'sad']\n",
      "Enter input string:angry\n",
      "['happy', 'sad', 'angry']\n",
      "Enter input string:done\n",
      "List ended.\n",
      "['happy', 'sad', 'angry']\n",
      "\n"
     ]
    }
   ],
   "source": [
    "inptlst =[]\n",
    "inpt=\"\"\n",
    "while 1:\n",
    "    inpt = input(\"Enter input string:\")\n",
    "    if (inpt.lower())==\"done\":\n",
    "        print(\"List ended.\")\n",
    "        print(inptlst)\n",
    "        break\n",
    "    if (inpt.lower()) in inptlst:\n",
    "        print(inpt,\"Not a unique input\")\n",
    "        print(inptlst)\n",
    "        continue\n",
    "    else:\n",
    "        inptlst.append(inpt)\n",
    "        print(inptlst)\n",
    "print(\"\")"
   ]
  },
  {
   "cell_type": "markdown",
   "metadata": {},
   "source": [
    "4. Create a while loop that repeatedly takes user input and appends it to a list, but only if the input is a number greater than 10."
   ]
  },
  {
   "cell_type": "code",
   "execution_count": 25,
   "metadata": {
    "vscode": {
     "languageId": "plaintext"
    }
   },
   "outputs": [
    {
     "name": "stdout",
     "output_type": "stream",
     "text": [
      "Enter a number:3\n",
      "Input number is less than 10\n",
      "Enter a number:50\n",
      "[50.0]\n",
      "Enter a number:a\n",
      "Please enter a number. Value entered 50.0 is not a number.\n",
      "Enter a number:\n",
      "Please enter a number. Value entered 50.0 is not a number.\n",
      "Enter a number:10\n",
      "Input number is less than 10\n",
      "Enter a number:12\n",
      "[50.0, 12.0]\n",
      "Enter a number:12\n",
      "[50.0, 12.0, 12.0]\n",
      "Enter a number:12\n",
      "[50.0, 12.0, 12.0, 12.0]\n",
      "Enter a number:12\n",
      "[50.0, 12.0, 12.0, 12.0, 12.0]\n",
      "Enter a number:12\n",
      "[50.0, 12.0, 12.0, 12.0, 12.0, 12.0]\n",
      "Enter a number:12\n",
      "[50.0, 12.0, 12.0, 12.0, 12.0, 12.0, 12.0]\n",
      "Enter a number:12\n",
      "[50.0, 12.0, 12.0, 12.0, 12.0, 12.0, 12.0, 12.0]\n",
      "Enter a number:1212\n",
      "[50.0, 12.0, 12.0, 12.0, 12.0, 12.0, 12.0, 12.0, 1212.0]\n",
      "Enter a number:12\n",
      "[50.0, 12.0, 12.0, 12.0, 12.0, 12.0, 12.0, 12.0, 1212.0, 12.0]\n",
      "Input list is : [50.0, 12.0, 12.0, 12.0, 12.0, 12.0, 12.0, 12.0, 1212.0, 12.0]\n"
     ]
    }
   ],
   "source": [
    "inptlst = []\n",
    "inpt= 0\n",
    "count= 10\n",
    "while count > 0:\n",
    "    try:\n",
    "        inpt = float(input(\"Enter a number:\"))\n",
    "        if inpt>10:\n",
    "            inptlst.append(inpt)\n",
    "            print(inptlst)\n",
    "            count = count -1\n",
    "        else:\n",
    "            print(\"Input number is less than 10\")\n",
    "    except ValueError as ve:\n",
    "        print(\"Please enter a number. Value entered\",inpt,\"is not a number.\")\n",
    "        continue\n",
    "print(\"Input list is :\",inptlst)"
   ]
  },
  {
   "cell_type": "markdown",
   "metadata": {},
   "source": [
    " 5. Create a while loop that repeatedly takes user input and keeps track of the highest number entered until the user enters \"done\"."
   ]
  },
  {
   "cell_type": "code",
   "execution_count": 32,
   "metadata": {
    "vscode": {
     "languageId": "plaintext"
    }
   },
   "outputs": [
    {
     "name": "stdout",
     "output_type": "stream",
     "text": [
      "Enter input:87.6\n",
      "Enter input:88.5\n",
      "Enter input:done\n",
      "List ended.\n",
      "['87.6', '88.5', 'done']\n",
      "List is : ['87.6', '88.5', 'done']\n",
      "Max number entered is : 88.5\n"
     ]
    }
   ],
   "source": [
    "inptlst =[]\n",
    "inpt=\"\"\n",
    "maxnum =0\n",
    "while (inpt.lower())!=\"done\":\n",
    "    inpt = input(\"Enter input:\")\n",
    "    inptlst.append(inpt)\n",
    "    if (inpt.lower())==\"done\":\n",
    "        print(\"List ended.\")\n",
    "        print(inptlst)\n",
    "        break\n",
    "    elif float(inpt):\n",
    "         if float(inpt) > maxnum :\n",
    "            maxnum = float(inpt)\n",
    "print(\"List is :\",inptlst)\n",
    "print(\"Max number entered is :\",maxnum)"
   ]
  },
  {
   "cell_type": "code",
   "execution_count": null,
   "metadata": {},
   "outputs": [],
   "source": []
  },
  {
   "cell_type": "code",
   "execution_count": null,
   "metadata": {},
   "outputs": [],
   "source": []
  }
 ],
 "metadata": {
  "kernelspec": {
   "display_name": "Python 3 (ipykernel)",
   "language": "python",
   "name": "python3"
  },
  "language_info": {
   "codemirror_mode": {
    "name": "ipython",
    "version": 3
   },
   "file_extension": ".py",
   "mimetype": "text/x-python",
   "name": "python",
   "nbconvert_exporter": "python",
   "pygments_lexer": "ipython3",
   "version": "3.9.13"
  }
 },
 "nbformat": 4,
 "nbformat_minor": 2
}
